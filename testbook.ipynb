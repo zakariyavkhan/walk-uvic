{
 "cells": [
  {
   "cell_type": "code",
   "execution_count": 47,
   "metadata": {},
   "outputs": [],
   "source": [
    "import networkx as nx\n",
    "import osmnx as ox"
   ]
  },
  {
   "cell_type": "code",
   "execution_count": 48,
   "metadata": {},
   "outputs": [],
   "source": [
    "G1 = ox.graph_from_bbox(48.4661000,\n",
    "                        48.4602000,\n",
    "                        -123.3077000,\n",
    "                        -123.3165000,\n",
    "                        network_type=\"walk\",\n",
    "                        retain_all=False)\n",
    "\n",
    "map1 = ox.plot_graph_folium(G1, weight=2, color=\"#8b0000\")\n",
    "map1.save(\"data/graph_bbox.html\")"
   ]
  },
  {
   "cell_type": "code",
   "execution_count": null,
   "metadata": {},
   "outputs": [],
   "source": [
    "G3 = ox.geometries_from_bbox(48.4661000,\n",
    "                             48.4602000,\n",
    "                             -123.3077000,\n",
    "                             -123.3165000,\n",
    "                             tags={'highway':True, \n",
    "                                   'footway':True})\n",
    "\n",
    "print(G3)\n",
    "#map3 = ox.plot_graph_folium(G3, weight=2, color=\"#8b0000\")\n",
    "#map3.save(\"data/geo_bbox.html\")"
   ]
  },
  {
   "cell_type": "code",
   "execution_count": 49,
   "metadata": {},
   "outputs": [],
   "source": [
    "route = nx.shortest_path(G1, 1390355608, 9826465944, weight=\"length\")\n",
    "route_map1 = ox.plot_route_folium(G1, route, route_map=map1)\n",
    "route_map1.save('data/shortest_path.html')"
   ]
  }
 ],
 "metadata": {
  "kernelspec": {
   "display_name": "Python 3.11.0 ('ox')",
   "language": "python",
   "name": "python3"
  },
  "language_info": {
   "codemirror_mode": {
    "name": "ipython",
    "version": 3
   },
   "file_extension": ".py",
   "mimetype": "text/x-python",
   "name": "python",
   "nbconvert_exporter": "python",
   "pygments_lexer": "ipython3",
   "version": "3.11.0"
  },
  "orig_nbformat": 4,
  "vscode": {
   "interpreter": {
    "hash": "bc8a201f072b051f0349f230ba7b9ec435d86c363b1a598ce677d419e01c0a13"
   }
  }
 },
 "nbformat": 4,
 "nbformat_minor": 2
}
